{
 "cells": [
  {
   "cell_type": "code",
   "execution_count": 1,
   "id": "ff3e2758-bc9c-4110-b4d2-d1738e26f31f",
   "metadata": {},
   "outputs": [],
   "source": [
    "lists=[12,25,35,48,62,75,84,90,96]"
   ]
  },
  {
   "cell_type": "code",
   "execution_count": 3,
   "id": "c1d10371-7327-4e7b-bce1-d10bdbc1ef6a",
   "metadata": {},
   "outputs": [],
   "source": [
    "def Agecategory():\n",
    "    for tem in lists:\n",
    "        if(tem<18):\n",
    "            print(\"Children\")\n",
    "        elif(tem<35):\n",
    "            print(\"Adult\")\n",
    "        elif(tem<59):\n",
    "            print(\"Citizen\")\n",
    "        else:\n",
    "            print(\"Senior Citizen\")\n",
    "            "
   ]
  },
  {
   "cell_type": "code",
   "execution_count": 4,
   "id": "3a61993d-442f-483c-8862-d8ab848125bd",
   "metadata": {},
   "outputs": [
    {
     "name": "stdout",
     "output_type": "stream",
     "text": [
      "Children\n",
      "Adult\n",
      "Citizen\n",
      "Citizen\n",
      "Senior Citizen\n",
      "Senior Citizen\n",
      "Senior Citizen\n",
      "Senior Citizen\n",
      "Senior Citizen\n"
     ]
    }
   ],
   "source": [
    "Agecategory()"
   ]
  },
  {
   "cell_type": "code",
   "execution_count": 2,
   "id": "3ab94210-c05a-449f-82db-26f1fb8b19a6",
   "metadata": {},
   "outputs": [
    {
     "name": "stdin",
     "output_type": "stream",
     "text": [
      "Enter the age: 45\n"
     ]
    }
   ],
   "source": [
    "age=int(input(\"Enter the age:\"))"
   ]
  },
  {
   "cell_type": "code",
   "execution_count": 3,
   "id": "9bbf8b9c-895c-49cc-a41e-a40101df9e08",
   "metadata": {},
   "outputs": [],
   "source": [
    "def Agecategory():    \n",
    "        if(age<18):\n",
    "            print(\"Children\")\n",
    "            cate=\"Children\"\n",
    "        elif(age<35):\n",
    "            print(\"Adult\")\n",
    "            cate=\"Adult\"\n",
    "        elif(age<59):\n",
    "            print(\"Citizen\")\n",
    "            cate=\"Citizen\"\n",
    "        else:\n",
    "            print(\"Senior Citizen\")\n",
    "            cate=\"Senior Citizen\"\n",
    "        return cate    "
   ]
  },
  {
   "cell_type": "code",
   "execution_count": 4,
   "id": "f927e076-a09c-4ee2-ba9c-697e97466014",
   "metadata": {
    "scrolled": true
   },
   "outputs": [
    {
     "name": "stdout",
     "output_type": "stream",
     "text": [
      "Citizen\n"
     ]
    },
    {
     "data": {
      "text/plain": [
       "'Citizen'"
      ]
     },
     "execution_count": 4,
     "metadata": {},
     "output_type": "execute_result"
    }
   ],
   "source": [
    "Agecategory()"
   ]
  },
  {
   "cell_type": "code",
   "execution_count": 5,
   "id": "c561c70c-f7e0-42bb-89a2-8414679a6de1",
   "metadata": {},
   "outputs": [
    {
     "name": "stdout",
     "output_type": "stream",
     "text": [
      "Citizen\n"
     ]
    }
   ],
   "source": [
    "agecate = Agecategory()\n"
   ]
  },
  {
   "cell_type": "code",
   "execution_count": 6,
   "id": "1afb420a-8784-4f8b-a1b9-3ccd4f4ed882",
   "metadata": {
    "scrolled": true
   },
   "outputs": [
    {
     "data": {
      "text/plain": [
       "'Citizen'"
      ]
     },
     "execution_count": 6,
     "metadata": {},
     "output_type": "execute_result"
    }
   ],
   "source": [
    "agecate"
   ]
  },
  {
   "cell_type": "code",
   "execution_count": null,
   "id": "16e421e1-6cd8-4e11-b09e-1ac647a1246e",
   "metadata": {},
   "outputs": [],
   "source": []
  }
 ],
 "metadata": {
  "kernelspec": {
   "display_name": "Python [conda env:base] *",
   "language": "python",
   "name": "conda-base-py"
  },
  "language_info": {
   "codemirror_mode": {
    "name": "ipython",
    "version": 3
   },
   "file_extension": ".py",
   "mimetype": "text/x-python",
   "name": "python",
   "nbconvert_exporter": "python",
   "pygments_lexer": "ipython3",
   "version": "3.12.7"
  }
 },
 "nbformat": 4,
 "nbformat_minor": 5
}
