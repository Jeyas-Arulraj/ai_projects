{
 "cells": [
  {
   "cell_type": "code",
   "execution_count": 12,
   "id": "9afa4669-3d09-44a0-9b10-c99918deb99b",
   "metadata": {},
   "outputs": [
    {
     "name": "stdin",
     "output_type": "stream",
     "text": [
      "Value: 10\n"
     ]
    },
    {
     "name": "stdout",
     "output_type": "stream",
     "text": [
      "Value: 10\n",
      "CORRECT\n"
     ]
    }
   ],
   "source": [
    "# print 'CORRECT' if i == 10 \n",
    "i=int(input(\"Value:\"))\n",
    "if(i==10):\n",
    "    print(\"Value:\",i)\n",
    "    print(\"CORRECT\")\n",
    "else:\n",
    "     print(\"Value:\",i)\n",
    "     print(\"Wrong\")"
   ]
  },
  {
   "cell_type": "code",
   "execution_count": 13,
   "id": "329ca3f0-86e5-4bc4-ac3c-dfce39087137",
   "metadata": {},
   "outputs": [
    {
     "name": "stdin",
     "output_type": "stream",
     "text": [
      "Enter the password: HOPE@123\n"
     ]
    },
    {
     "name": "stdout",
     "output_type": "stream",
     "text": [
      "Your password is correct\n"
     ]
    }
   ],
   "source": [
    " # Check the password, using if and else \n",
    "Password=input(\"Enter the password:\")\n",
    "if(Password==\"HOPE@123\"):    \n",
    "    print(\"Your password is correct\")\n",
    "else:     \n",
    "     print(\"Your password is Wrong\")"
   ]
  },
  {
   "cell_type": "code",
   "execution_count": 22,
   "id": "15bfa487-1589-4313-8f2e-650b61625962",
   "metadata": {},
   "outputs": [
    {
     "name": "stdin",
     "output_type": "stream",
     "text": [
      "Age: 20\n"
     ]
    },
    {
     "name": "stdout",
     "output_type": "stream",
     "text": [
      "adult\n"
     ]
    }
   ],
   "source": [
    "#Catagory the people by their age like children, adult, citizen, senior citizen... \n",
    "age=int(input(\"Age:\"))\n",
    "if(age < 18):\n",
    "    print(\"children\")\n",
    "elif(age < 28):    \n",
    "    print (\"adult\")\n",
    "elif(age < 45) :\n",
    "    print(\"citizen\")\n",
    "elif(age < 70):\n",
    "    print(\"senior citizen\")\n",
    "else:\n",
    "    print(\"super senior citizen\")\n",
    "    "
   ]
  },
  {
   "cell_type": "code",
   "execution_count": 23,
   "id": "860397f1-d8d4-4b4c-bcfa-ba750a27aabb",
   "metadata": {},
   "outputs": [
    {
     "name": "stdin",
     "output_type": "stream",
     "text": [
      "Enter any number:  1\n"
     ]
    },
    {
     "name": "stdout",
     "output_type": "stream",
     "text": [
      "The number is positive.\n"
     ]
    }
   ],
   "source": [
    "# Find whether given number is positive or negative \n",
    "number = float(input(\"Enter any number: \"))\n",
    "if number > 0:\n",
    "    print(\"The number is positive.\")\n",
    "elif number < 0:\n",
    "    print(\"The number is negative.\")\n",
    "else:\n",
    "    print(\"The number is zero.\")"
   ]
  },
  {
   "cell_type": "code",
   "execution_count": 24,
   "id": "79d6236f-f06e-4bdf-aeab-433f13068675",
   "metadata": {},
   "outputs": [
    {
     "name": "stdin",
     "output_type": "stream",
     "text": [
      "Enter a number:  22\n"
     ]
    },
    {
     "name": "stdout",
     "output_type": "stream",
     "text": [
      "22 is not divisible by 5.\n"
     ]
    }
   ],
   "source": [
    " # Check whether the given number is divisible by 5 \n",
    "\n",
    "number = int(input(\"Enter a number: \"))\n",
    "if number % 5 == 0:\n",
    "    print(f\"{number} is divisible by 5.\")\n",
    "else:\n",
    "    print(f\"{number} is not divisible by 5.\")"
   ]
  },
  {
   "cell_type": "code",
   "execution_count": null,
   "id": "fe2f60c1-073e-4c85-a321-c7e7f0018e68",
   "metadata": {},
   "outputs": [],
   "source": []
  }
 ],
 "metadata": {
  "kernelspec": {
   "display_name": "Python [conda env:base] *",
   "language": "python",
   "name": "conda-base-py"
  },
  "language_info": {
   "codemirror_mode": {
    "name": "ipython",
    "version": 3
   },
   "file_extension": ".py",
   "mimetype": "text/x-python",
   "name": "python",
   "nbconvert_exporter": "python",
   "pygments_lexer": "ipython3",
   "version": "3.12.7"
  }
 },
 "nbformat": 4,
 "nbformat_minor": 5
}
