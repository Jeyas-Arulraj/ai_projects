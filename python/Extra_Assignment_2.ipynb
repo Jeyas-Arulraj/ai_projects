{
 "cells": [
  {
   "cell_type": "code",
   "execution_count": 3,
   "id": "247b8304-b0ca-45f6-88bc-6ad3974cc4f8",
   "metadata": {},
   "outputs": [
    {
     "name": "stdout",
     "output_type": "stream",
     "text": [
      "0\n",
      "1\n",
      "2\n",
      "3\n",
      "4\n",
      "5\n",
      "6\n",
      "7\n",
      "8\n",
      "9\n",
      "10\n",
      "11\n",
      "12\n",
      "13\n",
      "14\n",
      "15\n",
      "16\n",
      "17\n",
      "18\n",
      "19\n"
     ]
    }
   ],
   "source": [
    "# print 0 to 20 by using range \n",
    "for tem in range(0,20):\n",
    "    print(tem)"
   ]
  },
  {
   "cell_type": "code",
   "execution_count": 4,
   "id": "9bb8d8d6-fc64-403b-a423-898b7549f923",
   "metadata": {},
   "outputs": [
    {
     "name": "stdout",
     "output_type": "stream",
     "text": [
      "10\n",
      "11\n",
      "12\n",
      "13\n",
      "14\n",
      "15\n",
      "16\n",
      "17\n",
      "18\n",
      "19\n"
     ]
    }
   ],
   "source": [
    "# print range 10 to 20 \n",
    "for tem in range(10,20):\n",
    "    print(tem)"
   ]
  },
  {
   "cell_type": "code",
   "execution_count": 8,
   "id": "32e686b0-56c6-44c4-98ee-80bf3062d4cd",
   "metadata": {},
   "outputs": [
    {
     "name": "stdout",
     "output_type": "stream",
     "text": [
      "[10, 20, 14, 55, 43, 87, 76]\n",
      "Number of item in the List2: 7\n"
     ]
    }
   ],
   "source": [
    "# Print number of items in the list by using 'len' \n",
    "List2=[10, 20, 14, 55, 43, 87, 76] \n",
    "print(List2)\n",
    "print(\"Number of item in the List2:\",len(List2))\n"
   ]
  },
  {
   "cell_type": "code",
   "execution_count": null,
   "id": "bec1e630-f074-4e77-8404-b03826e01cb7",
   "metadata": {},
   "outputs": [],
   "source": []
  }
 ],
 "metadata": {
  "kernelspec": {
   "display_name": "Python [conda env:base] *",
   "language": "python",
   "name": "conda-base-py"
  },
  "language_info": {
   "codemirror_mode": {
    "name": "ipython",
    "version": 3
   },
   "file_extension": ".py",
   "mimetype": "text/x-python",
   "name": "python",
   "nbconvert_exporter": "python",
   "pygments_lexer": "ipython3",
   "version": "3.12.7"
  }
 },
 "nbformat": 4,
 "nbformat_minor": 5
}
