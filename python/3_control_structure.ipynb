{
 "cells": [
  {
   "cell_type": "code",
   "execution_count": 5,
   "id": "0068200c-6eac-4316-8fce-ac5a7e162ab0",
   "metadata": {},
   "outputs": [
    {
     "ename": "SyntaxError",
     "evalue": "invalid syntax (2239009568.py, line 3)",
     "output_type": "error",
     "traceback": [
      "\u001b[1;36m  Cell \u001b[1;32mIn[5], line 3\u001b[1;36m\u001b[0m\n\u001b[1;33m    print(\"hello I'm inside of if\"):\u001b[0m\n\u001b[1;37m                                   ^\u001b[0m\n\u001b[1;31mSyntaxError\u001b[0m\u001b[1;31m:\u001b[0m invalid syntax\n"
     ]
    }
   ],
   "source": [
    "#if statement  it's for my reference ma'am\n",
    "if():\n",
    "    print(\"hello I'm inside of if\"):"
   ]
  },
  {
   "cell_type": "code",
   "execution_count": 8,
   "id": "59f0d5b7-d474-4a12-8d65-0f1961958faf",
   "metadata": {},
   "outputs": [
    {
     "name": "stdin",
     "output_type": "stream",
     "text": [
      "Enter the age: 18\n"
     ]
    }
   ],
   "source": [
    "age = int(input(\"Enter the age:\"))\n"
   ]
  },
  {
   "cell_type": "code",
   "execution_count": 9,
   "id": "ab90af24-3373-4d9a-a469-34d486322c03",
   "metadata": {},
   "outputs": [
    {
     "name": "stdout",
     "output_type": "stream",
     "text": [
      "Adult\n"
     ]
    }
   ],
   "source": [
    " if(age == 18):\n",
    "     print(\"Adult\")"
   ]
  },
  {
   "cell_type": "code",
   "execution_count": null,
   "id": "2315d7f3-47a9-4c6e-bb16-7a5b4f3c3db2",
   "metadata": {},
   "outputs": [],
   "source": [
    "#control structure code position\n",
    "if(cinditional):\n",
    "    print()"
   ]
  },
  {
   "cell_type": "code",
   "execution_count": null,
   "id": "c2176f5e-c4fb-4535-a9fb-cbeee6bbb6e7",
   "metadata": {},
   "outputs": [],
   "source": [
    "for tem in range(1,11):\n",
    "    print()"
   ]
  },
  {
   "cell_type": "code",
   "execution_count": null,
   "id": "a19e2402-cdfd-406d-8afa-c82bb0ea0e4a",
   "metadata": {},
   "outputs": [],
   "source": [
    "def control_function():\n",
    "    print()\n"
   ]
  },
  {
   "cell_type": "code",
   "execution_count": null,
   "id": "ffa526b3-c79b-4427-854f-9a666b2c74e4",
   "metadata": {},
   "outputs": [],
   "source": [
    "#if-else control stucture\n",
    "if():\n",
    "    print()\n",
    "else:\n",
    "    print()"
   ]
  },
  {
   "cell_type": "code",
   "execution_count": 11,
   "id": "f4e00c91-8142-4de5-a171-619f80cc6028",
   "metadata": {},
   "outputs": [
    {
     "name": "stdin",
     "output_type": "stream",
     "text": [
      "Enter the age: 12\n"
     ]
    }
   ],
   "source": [
    "age = int(input(\"Enter the age:\"))"
   ]
  },
  {
   "cell_type": "code",
   "execution_count": 12,
   "id": "46e6a352-4ae2-4adb-bd74-7493535e590c",
   "metadata": {},
   "outputs": [
    {
     "name": "stdout",
     "output_type": "stream",
     "text": [
      "children\n"
     ]
    }
   ],
   "source": [
    "if(age <18):\n",
    "    print(\"children\")\n",
    "else:\n",
    "    print(\"Adult\")"
   ]
  },
  {
   "cell_type": "code",
   "execution_count": null,
   "id": "c3d752ae-fb3a-4267-a4c8-c89f29ff1c2a",
   "metadata": {},
   "outputs": [],
   "source": [
    "#if-elif control structure\n",
    "\n",
    "if():\n",
    "    print()\n",
    "elif():\n",
    "    print()\n",
    "elif():\n",
    "    print()\n",
    "else:\n",
    "    print()    \n",
    "    "
   ]
  },
  {
   "cell_type": "markdown",
   "id": "b3dfc4f8-464c-46aa-89db-18a79714ed9b",
   "metadata": {},
   "source": [
    "age<18 --->Children\n",
    "age<35 --->Adult\n",
    "age<59 --->Citizen\n",
    "age>59 --->Senior citizen"
   ]
  },
  {
   "cell_type": "code",
   "execution_count": 19,
   "id": "965707aa-93d2-4791-a92b-0da2a151bf9f",
   "metadata": {},
   "outputs": [
    {
     "name": "stdin",
     "output_type": "stream",
     "text": [
      "Enter the age: 89\n"
     ]
    }
   ],
   "source": [
    "age = int(input(\"Enter the age:\"))"
   ]
  },
  {
   "cell_type": "code",
   "execution_count": 20,
   "id": "880c799d-083f-4461-b90e-1d906afa9deb",
   "metadata": {},
   "outputs": [
    {
     "name": "stdout",
     "output_type": "stream",
     "text": [
      "Senior Citizen\n"
     ]
    }
   ],
   "source": [
    "if(age<18):\n",
    "    print(\"Children\")\n",
    "elif(age<35):\n",
    "    print(\"Adult\")\n",
    "elif(age<59):\n",
    "    print(\"Citizen\")\n",
    "else:\n",
    "    print(\"Senior Citizen\")"
   ]
  },
  {
   "cell_type": "code",
   "execution_count": null,
   "id": "4a5ee57f-4461-4718-9fa1-49862e593b06",
   "metadata": {},
   "outputs": [],
   "source": [
    "#for loop control structure\n",
    "\n",
    "for tem in mainvariable:\n",
    "    print()"
   ]
  },
  {
   "cell_type": "code",
   "execution_count": 22,
   "id": "f154d186-a4e9-46a5-8b48-4015b624ed58",
   "metadata": {},
   "outputs": [],
   "source": [
    "lists=[12,25,35,48,62,75,84,90,96]"
   ]
  },
  {
   "cell_type": "code",
   "execution_count": 23,
   "id": "9b3625dc-ca60-42e2-b576-212dfaa2d385",
   "metadata": {},
   "outputs": [
    {
     "name": "stdout",
     "output_type": "stream",
     "text": [
      "12\n",
      "25\n",
      "35\n",
      "48\n",
      "62\n",
      "75\n",
      "84\n",
      "90\n",
      "96\n"
     ]
    }
   ],
   "source": [
    "for tem in lists:\n",
    "    print(tem)"
   ]
  },
  {
   "cell_type": "code",
   "execution_count": 24,
   "id": "b4950d26-26a2-49ef-96a3-c46a77235997",
   "metadata": {},
   "outputs": [
    {
     "name": "stdout",
     "output_type": "stream",
     "text": [
      "Children\n",
      "Adult\n",
      "Citizen\n",
      "Citizen\n",
      "Senior Citizen\n",
      "Senior Citizen\n",
      "Senior Citizen\n",
      "Senior Citizen\n",
      "Senior Citizen\n"
     ]
    }
   ],
   "source": [
    "for tem in lists:\n",
    "    if(tem<18):\n",
    "        print(\"Children\")\n",
    "    elif(tem<35):\n",
    "        print(\"Adult\")\n",
    "    elif(tem<59):\n",
    "        print(\"Citizen\")\n",
    "    else:\n",
    "        print(\"Senior Citizen\")"
   ]
  },
  {
   "cell_type": "code",
   "execution_count": 27,
   "id": "a09792e0-74aa-4d93-b316-181b13649581",
   "metadata": {},
   "outputs": [
    {
     "name": "stdin",
     "output_type": "stream",
     "text": [
      "Enter the number: 12\n"
     ]
    },
    {
     "name": "stdout",
     "output_type": "stream",
     "text": [
      "It is a even number\n"
     ]
    }
   ],
   "source": [
    "#odd or even calculation\n",
    "num =int(input(\"Enter the number:\"))\n",
    "if((num%2) == 0):\n",
    "    print(\"It is a even number\")\n",
    "else:\n",
    "    print(\"It is a odd number\")\n",
    "\n",
    "    "
   ]
  },
  {
   "cell_type": "code",
   "execution_count": 28,
   "id": "46220086-ec01-4fe6-b63e-e07eb4ae4cc9",
   "metadata": {},
   "outputs": [
    {
     "name": "stdin",
     "output_type": "stream",
     "text": [
      "Enter the number: 9\n"
     ]
    },
    {
     "name": "stdout",
     "output_type": "stream",
     "text": [
      "It is a odd number\n"
     ]
    }
   ],
   "source": [
    "num =int(input(\"Enter the number:\"))\n",
    "if((num%2) == 1):\n",
    "    print(\"It is a odd number\")\n",
    "else:\n",
    "    print(\"It is a even number\")\n"
   ]
  },
  {
   "cell_type": "code",
   "execution_count": 29,
   "id": "d4a28e61-83fa-4b4e-adf8-a2190e72760d",
   "metadata": {},
   "outputs": [
    {
     "data": {
      "text/plain": [
       "range(0, 10)"
      ]
     },
     "execution_count": 29,
     "metadata": {},
     "output_type": "execute_result"
    }
   ],
   "source": [
    "#range control\n",
    "range(0,10)"
   ]
  },
  {
   "cell_type": "code",
   "execution_count": 32,
   "id": "a01124f1-08ca-45f4-95fa-1145faceec8e",
   "metadata": {},
   "outputs": [
    {
     "name": "stdout",
     "output_type": "stream",
     "text": [
      "range(0, 10)\n"
     ]
    }
   ],
   "source": [
    "print(range(0,10))"
   ]
  },
  {
   "cell_type": "code",
   "execution_count": 33,
   "id": "bb1f3987-292b-4340-99e4-571cfb8d9a6c",
   "metadata": {},
   "outputs": [
    {
     "name": "stdout",
     "output_type": "stream",
     "text": [
      "0\n",
      "1\n",
      "2\n",
      "3\n",
      "4\n",
      "5\n",
      "6\n",
      "7\n",
      "8\n",
      "9\n"
     ]
    }
   ],
   "source": [
    "for tem in range(0,10):\n",
    "    print(tem)"
   ]
  },
  {
   "cell_type": "code",
   "execution_count": 35,
   "id": "e4890a32-d63b-45e4-b14b-720dac314047",
   "metadata": {},
   "outputs": [
    {
     "name": "stdout",
     "output_type": "stream",
     "text": [
      "20\n",
      "21\n",
      "22\n",
      "23\n",
      "24\n",
      "25\n",
      "26\n",
      "27\n",
      "28\n",
      "29\n"
     ]
    }
   ],
   "source": [
    "for tem in range(20,30):\n",
    "    print(tem)"
   ]
  },
  {
   "cell_type": "code",
   "execution_count": 36,
   "id": "0c12faf0-249c-40a1-8290-11336790c43b",
   "metadata": {},
   "outputs": [
    {
     "name": "stdout",
     "output_type": "stream",
     "text": [
      "20\n",
      "23\n",
      "26\n",
      "29\n",
      "32\n",
      "35\n",
      "38\n"
     ]
    }
   ],
   "source": [
    "for tem in range(20,40,3):\n",
    "    print(tem)"
   ]
  },
  {
   "cell_type": "code",
   "execution_count": null,
   "id": "0a2b21a9-a93a-4b8b-b727-dc6de32feeb5",
   "metadata": {},
   "outputs": [],
   "source": []
  }
 ],
 "metadata": {
  "kernelspec": {
   "display_name": "Python [conda env:base] *",
   "language": "python",
   "name": "conda-base-py"
  },
  "language_info": {
   "codemirror_mode": {
    "name": "ipython",
    "version": 3
   },
   "file_extension": ".py",
   "mimetype": "text/x-python",
   "name": "python",
   "nbconvert_exporter": "python",
   "pygments_lexer": "ipython3",
   "version": "3.12.7"
  }
 },
 "nbformat": 4,
 "nbformat_minor": 5
}
