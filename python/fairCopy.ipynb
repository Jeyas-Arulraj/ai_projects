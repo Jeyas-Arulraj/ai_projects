{
 "cells": [
  {
   "cell_type": "code",
   "execution_count": 1,
   "id": "5284603d-2864-4750-ac2f-d5c45d564e1e",
   "metadata": {},
   "outputs": [],
   "source": [
    "from multipleFunctions import multipleFunction"
   ]
  },
  {
   "cell_type": "code",
   "execution_count": 2,
   "id": "bdcce0d1-99fa-430f-b8d5-f8def5380d29",
   "metadata": {},
   "outputs": [
    {
     "name": "stdin",
     "output_type": "stream",
     "text": [
      "Enter the BMI Index: 76\n"
     ]
    },
    {
     "name": "stdout",
     "output_type": "stream",
     "text": [
      "Morbidly Obese\n"
     ]
    },
    {
     "data": {
      "text/plain": [
       "'Morbidly Obese'"
      ]
     },
     "execution_count": 2,
     "metadata": {},
     "output_type": "execute_result"
    }
   ],
   "source": [
    "multipleFunction.BMI()"
   ]
  },
  {
   "cell_type": "code",
   "execution_count": 3,
   "id": "d7d68a11-d2aa-4128-ac6b-54276020360f",
   "metadata": {},
   "outputs": [
    {
     "name": "stdin",
     "output_type": "stream",
     "text": [
      "Enter the number: 11\n"
     ]
    },
    {
     "name": "stdout",
     "output_type": "stream",
     "text": [
      "It is a odd number\n"
     ]
    },
    {
     "data": {
      "text/plain": [
       "'Odd number'"
      ]
     },
     "execution_count": 3,
     "metadata": {},
     "output_type": "execute_result"
    }
   ],
   "source": [
    "multipleFunction.oddEven()"
   ]
  },
  {
   "cell_type": "code",
   "execution_count": null,
   "id": "63eb605a-f2f2-4018-a285-b9ea35a39c8c",
   "metadata": {},
   "outputs": [],
   "source": []
  }
 ],
 "metadata": {
  "kernelspec": {
   "display_name": "Python [conda env:base] *",
   "language": "python",
   "name": "conda-base-py"
  },
  "language_info": {
   "codemirror_mode": {
    "name": "ipython",
    "version": 3
   },
   "file_extension": ".py",
   "mimetype": "text/x-python",
   "name": "python",
   "nbconvert_exporter": "python",
   "pygments_lexer": "ipython3",
   "version": "3.12.7"
  }
 },
 "nbformat": 4,
 "nbformat_minor": 5
}
