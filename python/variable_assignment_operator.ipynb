{
 "cells": [
  {
   "cell_type": "code",
   "execution_count": 3,
   "id": "58e550b5-eecf-4f10-bb04-42072eaf7eb0",
   "metadata": {},
   "outputs": [
    {
     "name": "stdout",
     "output_type": "stream",
     "text": [
      "The value of add: 30\n"
     ]
    }
   ],
   "source": [
    "Num_1 =10\n",
    "Num_2 =20\n",
    "add = Num_1 + Num_2\n"
   ]
  },
  {
   "cell_type": "code",
   "execution_count": 4,
   "id": "e8982cae-3379-4b6d-a8a7-1e91cfe2abe2",
   "metadata": {},
   "outputs": [
    {
     "name": "stdout",
     "output_type": "stream",
     "text": [
      "add\n"
     ]
    }
   ],
   "source": [
    "Num_1 =10\n",
    "Num_2 =20\n",
    "add = Num_1 + Num_2\n",
    "print(\"add\")"
   ]
  },
  {
   "cell_type": "code",
   "execution_count": 5,
   "id": "acc12101-d284-48a0-b5e4-907e9dcd26fd",
   "metadata": {},
   "outputs": [
    {
     "name": "stdout",
     "output_type": "stream",
     "text": [
      "add\n",
      "The value of add: 30\n"
     ]
    }
   ],
   "source": [
    "Num_1 =10\n",
    "Num_2 =20\n",
    "add = Num_1 + Num_2\n",
    "print(\"add\")\n",
    "print(\"The value of add:\",add)"
   ]
  },
  {
   "cell_type": "code",
   "execution_count": 6,
   "id": "db464ec4-cfb3-42b9-bee1-520fbfa1474e",
   "metadata": {},
   "outputs": [
    {
     "name": "stdout",
     "output_type": "stream",
     "text": [
      "110\n",
      "30\n"
     ]
    }
   ],
   "source": [
    "num_1=70\n",
    "num_2=40\n",
    "add=num_1+num_2\n",
    "sub=num_1-num_2\n",
    "print(add)\n",
    "print(sub)"
   ]
  },
  {
   "cell_type": "code",
   "execution_count": 7,
   "id": "6304915a-108d-423f-9dd1-c562c60c3dd3",
   "metadata": {},
   "outputs": [
    {
     "ename": "SyntaxError",
     "evalue": "invalid syntax (2066385998.py, line 1)",
     "output_type": "error",
     "traceback": [
      "\u001b[1;36m  Cell \u001b[1;32mIn[7], line 1\u001b[1;36m\u001b[0m\n\u001b[1;33m    First name =\"jeyaseelan\"\u001b[0m\n\u001b[1;37m          ^\u001b[0m\n\u001b[1;31mSyntaxError\u001b[0m\u001b[1;31m:\u001b[0m invalid syntax\n"
     ]
    }
   ],
   "source": [
    "First name =\"jeyaseelan\""
   ]
  },
  {
   "cell_type": "code",
   "execution_count": 8,
   "id": "d18189c7-33b9-4336-9274-389881c5cac6",
   "metadata": {},
   "outputs": [],
   "source": [
    "# variable name creation\n",
    "First_name =\"hello\"  # or\n",
    "FirstName=\"hello world\" # or\n",
    "firstName=\"Hi\""
   ]
  },
  {
   "cell_type": "code",
   "execution_count": 10,
   "id": "7942cde5-0d31-4233-9097-c67cff6e6692",
   "metadata": {},
   "outputs": [
    {
     "ename": "SyntaxError",
     "evalue": "invalid decimal literal (41724639.py, line 2)",
     "output_type": "error",
     "traceback": [
      "\u001b[1;36m  Cell \u001b[1;32mIn[10], line 2\u001b[1;36m\u001b[0m\n\u001b[1;33m    4firstname=40\u001b[0m\n\u001b[1;37m    ^\u001b[0m\n\u001b[1;31mSyntaxError\u001b[0m\u001b[1;31m:\u001b[0m invalid decimal literal\n"
     ]
    }
   ],
   "source": [
    "# after no start with number  \n",
    "4firstname=40\n",
    "fi2stname=40"
   ]
  },
  {
   "cell_type": "code",
   "execution_count": 11,
   "id": "7e3e948a-2279-4ed9-b526-f40deb43abbd",
   "metadata": {},
   "outputs": [
    {
     "name": "stdout",
     "output_type": "stream",
     "text": [
      "The addition of two number\n",
      "The number 1: 30\n",
      "The number 2: 30\n",
      "The Answers: 60\n"
     ]
    }
   ],
   "source": [
    "print(\"The addition of two number\")\n",
    "num_1=30\n",
    "print(\"The number 1:\",num_1)\n",
    "num_2=30\n",
    "print(\"The number 2:\",num_2)\n",
    "add=num_1+num_2\n",
    "print(\"The Answers:\",add)"
   ]
  },
  {
   "cell_type": "code",
   "execution_count": 5,
   "id": "40e0bee9-1ff1-466f-b8be-3ef9d9e8f865",
   "metadata": {},
   "outputs": [
    {
     "name": "stdin",
     "output_type": "stream",
     "text": [
      "Ender the value 1: 100\n"
     ]
    }
   ],
   "source": [
    "num1=int(input(\"Ender the value 1:\"))\n",
    "           "
   ]
  },
  {
   "cell_type": "code",
   "execution_count": 8,
   "id": "220dae62-32b6-4361-8a3c-2d32b85c21ea",
   "metadata": {},
   "outputs": [
    {
     "name": "stdin",
     "output_type": "stream",
     "text": [
      "Ender the value 2: 800\n"
     ]
    },
    {
     "name": "stdout",
     "output_type": "stream",
     "text": [
      "added value: 900\n"
     ]
    }
   ],
   "source": [
    "num2=int(input(\"Ender the value 2:\"))\n",
    "add=num1+num2\n",
    "print(\"added value:\",add)"
   ]
  },
  {
   "cell_type": "code",
   "execution_count": null,
   "id": "013d8890-bcf2-48d0-bc8b-51ec6adf3365",
   "metadata": {},
   "outputs": [],
   "source": []
  }
 ],
 "metadata": {
  "kernelspec": {
   "display_name": "Python [conda env:base] *",
   "language": "python",
   "name": "conda-base-py"
  },
  "language_info": {
   "codemirror_mode": {
    "name": "ipython",
    "version": 3
   },
   "file_extension": ".py",
   "mimetype": "text/x-python",
   "name": "python",
   "nbconvert_exporter": "python",
   "pygments_lexer": "ipython3",
   "version": "3.12.7"
  }
 },
 "nbformat": 4,
 "nbformat_minor": 5
}
