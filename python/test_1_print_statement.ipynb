{
 "cells": [
  {
   "cell_type": "code",
   "execution_count": 1,
   "id": "bbbb8bd6-3115-4cc1-9ac9-d59f83ca7c58",
   "metadata": {},
   "outputs": [
    {
     "name": "stdout",
     "output_type": "stream",
     "text": [
      "hello world\n"
     ]
    }
   ],
   "source": [
    "print(\"hello world\")\n"
   ]
  },
  {
   "cell_type": "code",
   "execution_count": 2,
   "id": "6afdea08-de6d-43de-a60c-6e3270311ff4",
   "metadata": {},
   "outputs": [
    {
     "name": "stdout",
     "output_type": "stream",
     "text": [
      "134546@#$%^&_nvoiiiahiioqohg\n"
     ]
    }
   ],
   "source": [
    "print(\"134546@#$%^&_nvoiiiahiioqohg\")"
   ]
  },
  {
   "cell_type": "code",
   "execution_count": 1,
   "id": "738c4283-9e86-4257-a234-5cf9c001493f",
   "metadata": {},
   "outputs": [
    {
     "ename": "NameError",
     "evalue": "name 'Print' is not defined",
     "output_type": "error",
     "traceback": [
      "\u001b[1;31m---------------------------------------------------------------------------\u001b[0m",
      "\u001b[1;31mNameError\u001b[0m                                 Traceback (most recent call last)",
      "Cell \u001b[1;32mIn[1], line 1\u001b[0m\n\u001b[1;32m----> 1\u001b[0m Print(\u001b[38;5;124m\"\u001b[39m\u001b[38;5;124mhello\u001b[39m\u001b[38;5;124m\"\u001b[39m)\n",
      "\u001b[1;31mNameError\u001b[0m: name 'Print' is not defined"
     ]
    }
   ],
   "source": [
    "Print(\"hello\")  # use small letter "
   ]
  },
  {
   "cell_type": "code",
   "execution_count": 2,
   "id": "c7357c13-1c44-4afd-af7a-7ffadd8409d5",
   "metadata": {},
   "outputs": [
    {
     "name": "stdout",
     "output_type": "stream",
     "text": [
      "the value of c: 15\n"
     ]
    }
   ],
   "source": [
    "# variable & assignment operator :\n",
    "a= 10\n",
    "b=5\n",
    "c=a+b\n",
    "\n",
    "print(\"the value of c:\",c)\n"
   ]
  },
  {
   "cell_type": "code",
   "execution_count": null,
   "id": "67655fa4-acc3-44c8-9693-4dccdca5988f",
   "metadata": {},
   "outputs": [],
   "source": []
  }
 ],
 "metadata": {
  "kernelspec": {
   "display_name": "Python 3 (ipykernel)",
   "language": "python",
   "name": "python3"
  },
  "language_info": {
   "codemirror_mode": {
    "name": "ipython",
    "version": 3
   },
   "file_extension": ".py",
   "mimetype": "text/x-python",
   "name": "python",
   "nbconvert_exporter": "python",
   "pygments_lexer": "ipython3",
   "version": "3.12.7"
  }
 },
 "nbformat": 4,
 "nbformat_minor": 5
}
