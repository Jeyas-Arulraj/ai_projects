{
 "cells": [
  {
   "cell_type": "code",
   "execution_count": 2,
   "id": "004b277f-8855-44e8-af41-bd08b8e61a17",
   "metadata": {},
   "outputs": [],
   "source": [
    "def Agecategory():    \n",
    "        if(age<18):\n",
    "            print(\"Children\")\n",
    "            cate=\"Children\"\n",
    "        elif(age<35):\n",
    "            print(\"Adult\")\n",
    "            cate=\"Adult\"\n",
    "        elif(age<59):\n",
    "            print(\"Citizen\")\n",
    "            cate=\"Citizen\"\n",
    "        else:\n",
    "            print(\"Senior Citizen\")\n",
    "            cate=\"Senior Citizen\"\n",
    "        return cate  "
   ]
  },
  {
   "cell_type": "code",
   "execution_count": 3,
   "id": "3cd592f8-eaae-4ba0-8040-3a6c539e401b",
   "metadata": {},
   "outputs": [
    {
     "name": "stdin",
     "output_type": "stream",
     "text": [
      "Enter the age: 25\n"
     ]
    },
    {
     "name": "stdout",
     "output_type": "stream",
     "text": [
      "Adult\n"
     ]
    }
   ],
   "source": [
    "age=int(input(\"Enter the age:\"))\n",
    "agecate= Agecategory()"
   ]
  },
  {
   "cell_type": "code",
   "execution_count": 4,
   "id": "41e86ab6-7388-480a-9bf2-044abd5ae6a9",
   "metadata": {},
   "outputs": [
    {
     "name": "stdout",
     "output_type": "stream",
     "text": [
      "Adult\n"
     ]
    }
   ],
   "source": [
    "print(agecate)"
   ]
  },
  {
   "cell_type": "code",
   "execution_count": 9,
   "id": "f192e63c-f1a8-4559-a870-c160d9afdcc3",
   "metadata": {},
   "outputs": [],
   "source": [
    "def AgecategoryNo():    \n",
    "        if(age<18):\n",
    "            print(\"Children\")\n",
    "            cate=\"Children\"\n",
    "        elif(age<35):\n",
    "            print(\"Adult\")\n",
    "            cate=\"Adult\"\n",
    "        elif(age<59):\n",
    "            print(\"Citizen\")\n",
    "            cate=\"Citizen\"\n",
    "        else:\n",
    "            print(\"Senior Citizen\")\n",
    "            cate=\"Senior Citizen\"\n",
    "        "
   ]
  },
  {
   "cell_type": "code",
   "execution_count": 10,
   "id": "9833ef75-e88a-4a46-b9e7-030d04679c23",
   "metadata": {},
   "outputs": [
    {
     "name": "stdin",
     "output_type": "stream",
     "text": [
      "Enter the age: 10\n"
     ]
    },
    {
     "name": "stdout",
     "output_type": "stream",
     "text": [
      "Children\n"
     ]
    }
   ],
   "source": [
    "age=int(input(\"Enter the age:\"))\n",
    "agecate= AgecategoryNo()"
   ]
  },
  {
   "cell_type": "code",
   "execution_count": 11,
   "id": "717923e5-11f1-462d-943e-09ffeb59f4bb",
   "metadata": {},
   "outputs": [
    {
     "name": "stdout",
     "output_type": "stream",
     "text": [
      "None\n"
     ]
    }
   ],
   "source": [
    "print(agecate)"
   ]
  },
  {
   "cell_type": "code",
   "execution_count": 13,
   "id": "14815585-9b29-4568-8d59-0aca1766c8b3",
   "metadata": {},
   "outputs": [
    {
     "name": "stdin",
     "output_type": "stream",
     "text": [
      "Enter the age: 56\n"
     ]
    },
    {
     "name": "stdout",
     "output_type": "stream",
     "text": [
      "Citizen\n"
     ]
    }
   ],
   "source": [
    "age=int(input(\"Enter the age:\"))\n",
    "agecate= Agecategory()"
   ]
  },
  {
   "cell_type": "code",
   "execution_count": 2,
   "id": "6a8a5e87-8c56-4428-94a2-5463e61ed75c",
   "metadata": {},
   "outputs": [],
   "source": [
    "def oddEven():\n",
    "    #odd or even calculation\n",
    "    num =int(input(\"Enter the number:\"))\n",
    "    if((num%2) == 0):\n",
    "        print(\"It is a even number\")\n",
    "        message=\"Even number\"\n",
    "    else:\n",
    "        print(\"It is a odd number\")\n",
    "        message=\"Odd number\"\n",
    "    return message"
   ]
  },
  {
   "cell_type": "code",
   "execution_count": 4,
   "id": "bdd530b1-72f8-4fc1-b4fc-47869f4c48b9",
   "metadata": {},
   "outputs": [
    {
     "name": "stdin",
     "output_type": "stream",
     "text": [
      "Enter the number: 9\n"
     ]
    },
    {
     "name": "stdout",
     "output_type": "stream",
     "text": [
      "It is a odd number\n"
     ]
    }
   ],
   "source": [
    "message=oddEven()"
   ]
  },
  {
   "cell_type": "code",
   "execution_count": 5,
   "id": "5e294b96-3ed8-4a6e-8aa8-a8a3b8172557",
   "metadata": {},
   "outputs": [
    {
     "name": "stdout",
     "output_type": "stream",
     "text": [
      "The given number is Odd\n"
     ]
    }
   ],
   "source": [
    "if(message == \"Even number\"):\n",
    "    print(\"The given number is Even\")\n",
    "else:\n",
    "    print(\"The given number is Odd\")"
   ]
  },
  {
   "cell_type": "code",
   "execution_count": 7,
   "id": "b336259d-8919-47f6-88b5-ced712dc1689",
   "metadata": {},
   "outputs": [],
   "source": [
    "def BMI():\n",
    "    bmi=int(input(\"Enter the BMI Index:\"))\n",
    "    if(bmi < 16):\n",
    "        print(\"Severely Underweight\")\n",
    "        message=\"Severely Underweight\"\n",
    "    elif(bmi < 18.5):    \n",
    "        print (\"Underweight\")\n",
    "        message=\"Underweight\"\n",
    "    elif(bmi < 25) :\n",
    "        print(\"Normal\")\n",
    "        message=\"Normal\"\n",
    "    elif(bmi < 30):\n",
    "        print(\"Overweight\")\n",
    "        message=\"Overweight\"\n",
    "    elif(bmi < 35):\n",
    "        print(\"very Overweight\")\n",
    "        message=\"very Overweight\"\n",
    "    elif(bmi < 40):\n",
    "        print(\"Severely Obese\")\n",
    "        message=\"Severely Obese\"\n",
    "    else:\n",
    "        print(\"Morbidly Obese\")\n",
    "        message=\"Morbidly Obese\"\n",
    "    return message"
   ]
  },
  {
   "cell_type": "code",
   "execution_count": 10,
   "id": "c7d2581a-daa1-4b8f-a3e5-b513ae8853a8",
   "metadata": {},
   "outputs": [
    {
     "name": "stdin",
     "output_type": "stream",
     "text": [
      "Enter the BMI Index: 36\n"
     ]
    },
    {
     "name": "stdout",
     "output_type": "stream",
     "text": [
      "Severely Obese\n"
     ]
    }
   ],
   "source": [
    "bmi=BMI()"
   ]
  },
  {
   "cell_type": "code",
   "execution_count": 11,
   "id": "0e19fb3a-40c9-4587-97f5-ffafff430d66",
   "metadata": {},
   "outputs": [
    {
     "data": {
      "text/plain": [
       "'Severely Obese'"
      ]
     },
     "execution_count": 11,
     "metadata": {},
     "output_type": "execute_result"
    }
   ],
   "source": [
    "bmi"
   ]
  },
  {
   "cell_type": "code",
   "execution_count": 12,
   "id": "37be8eb7-0117-4095-afe7-d353226c0df4",
   "metadata": {},
   "outputs": [],
   "source": [
    "def addition(num1,num2):\n",
    "    add=num1+num2\n",
    "    return add"
   ]
  },
  {
   "cell_type": "code",
   "execution_count": 14,
   "id": "40ac729f-ecf7-46d8-ba53-f99fbcf841df",
   "metadata": {
    "scrolled": true
   },
   "outputs": [
    {
     "data": {
      "text/plain": [
       "9"
      ]
     },
     "execution_count": 14,
     "metadata": {},
     "output_type": "execute_result"
    }
   ],
   "source": [
    "addition(5,4)"
   ]
  },
  {
   "cell_type": "code",
   "execution_count": 15,
   "id": "48ba4132-04a6-407d-a1e9-eaf3f0d7a070",
   "metadata": {},
   "outputs": [],
   "source": [
    "def subraction(num1,num2):\n",
    "    sub=num1-num2\n",
    "    return sub"
   ]
  },
  {
   "cell_type": "code",
   "execution_count": 17,
   "id": "e1c366cc-98bb-49eb-afad-dda4d8a14b5e",
   "metadata": {},
   "outputs": [
    {
     "data": {
      "text/plain": [
       "-1"
      ]
     },
     "execution_count": 17,
     "metadata": {},
     "output_type": "execute_result"
    }
   ],
   "source": [
    "subraction(2,3)"
   ]
  },
  {
   "cell_type": "code",
   "execution_count": 2,
   "id": "0210779b-0a8f-4e06-921b-5229f54d7f4c",
   "metadata": {},
   "outputs": [],
   "source": [
    "class multipleFunction():\n",
    "    def oddEven():\n",
    "        #odd or even calculation\n",
    "        num =int(input(\"Enter the number:\"))\n",
    "        if((num%2) == 0):\n",
    "            print(\"It is a even number\")\n",
    "            message=\"Even number\"\n",
    "        else:\n",
    "            print(\"It is a odd number\")\n",
    "            message=\"Odd number\"\n",
    "        return message\n",
    "        \n",
    "    def BMI():\n",
    "        bmi=int(input(\"Enter the BMI Index:\"))\n",
    "        if(bmi < 16):\n",
    "            print(\"Severely Underweight\")\n",
    "            message=\"Severely Underweight\"\n",
    "        elif(bmi < 18.5):    \n",
    "            print (\"Underweight\")\n",
    "            message=\"Underweight\"\n",
    "        elif(bmi < 25) :\n",
    "            print(\"Normal\")\n",
    "            message=\"Normal\"\n",
    "        elif(bmi < 30):\n",
    "            print(\"Overweight\")\n",
    "            message=\"Overweight\"\n",
    "        elif(bmi < 35):\n",
    "            print(\"very Overweight\")\n",
    "            message=\"very Overweight\"\n",
    "        elif(bmi < 40):\n",
    "            print(\"Severely Obese\")\n",
    "            message=\"Severely Obese\"\n",
    "        else:\n",
    "            print(\"Morbidly Obese\")\n",
    "            message=\"Morbidly Obese\"\n",
    "        return message    "
   ]
  },
  {
   "cell_type": "code",
   "execution_count": 3,
   "id": "7792307d-eb1f-4000-b2fd-341633271e78",
   "metadata": {},
   "outputs": [
    {
     "name": "stdin",
     "output_type": "stream",
     "text": [
      "Enter the BMI Index: 35\n"
     ]
    },
    {
     "name": "stdout",
     "output_type": "stream",
     "text": [
      "Severely Obese\n"
     ]
    },
    {
     "data": {
      "text/plain": [
       "'Severely Obese'"
      ]
     },
     "execution_count": 3,
     "metadata": {},
     "output_type": "execute_result"
    }
   ],
   "source": [
    "multipleFunction.BMI()"
   ]
  },
  {
   "cell_type": "code",
   "execution_count": 4,
   "id": "9e97195b-1b7f-4f91-86ec-5c129155d269",
   "metadata": {},
   "outputs": [
    {
     "name": "stdin",
     "output_type": "stream",
     "text": [
      "Enter the number: 52\n"
     ]
    },
    {
     "name": "stdout",
     "output_type": "stream",
     "text": [
      "It is a even number\n"
     ]
    },
    {
     "data": {
      "text/plain": [
       "'Even number'"
      ]
     },
     "execution_count": 4,
     "metadata": {},
     "output_type": "execute_result"
    }
   ],
   "source": [
    "multipleFunction.oddEven()"
   ]
  },
  {
   "cell_type": "code",
   "execution_count": null,
   "id": "7eedc396-42cc-448e-9524-dcc61c251557",
   "metadata": {},
   "outputs": [],
   "source": []
  }
 ],
 "metadata": {
  "kernelspec": {
   "display_name": "Python [conda env:base] *",
   "language": "python",
   "name": "conda-base-py"
  },
  "language_info": {
   "codemirror_mode": {
    "name": "ipython",
    "version": 3
   },
   "file_extension": ".py",
   "mimetype": "text/x-python",
   "name": "python",
   "nbconvert_exporter": "python",
   "pygments_lexer": "ipython3",
   "version": "3.12.7"
  }
 },
 "nbformat": 4,
 "nbformat_minor": 5
}
