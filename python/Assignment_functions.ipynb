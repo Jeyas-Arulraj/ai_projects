{
 "cells": [
  {
   "cell_type": "code",
   "execution_count": 4,
   "id": "f1728905-f2d4-4f50-808f-ab02a37d2a1d",
   "metadata": {},
   "outputs": [],
   "source": [
    "\n",
    "# Define the function to display subfields\n",
    "def Subfields():\n",
    "    print(\"Sub-fields in AI are:\")\n",
    "    print(\"Machine Learning\")\n",
    "    print(\"Neural Networks\")\n",
    "    print(\"Vision\")\n",
    "    print(\"Robotics\")\n",
    "    print(\"Speech Processing\")\n",
    "    print(\"Natural Language Processing\")"
   ]
  },
  {
   "cell_type": "code",
   "execution_count": 5,
   "id": "bc3b21bd-62b6-4bad-a193-493159c2db53",
   "metadata": {},
   "outputs": [
    {
     "name": "stdout",
     "output_type": "stream",
     "text": [
      "Sub-fields in AI are:\n",
      "Machine Learning\n",
      "Neural Networks\n",
      "Vision\n",
      "Robotics\n",
      "Speech Processing\n",
      "Natural Language Processing\n"
     ]
    }
   ],
   "source": [
    "Subfields()"
   ]
  },
  {
   "cell_type": "code",
   "execution_count": 6,
   "id": "1409f0fe-b358-4cab-94b3-e5a00fa18bdd",
   "metadata": {},
   "outputs": [],
   "source": [
    "\n",
    "# Define the function to display subfields\n",
    "def OddEven():\n",
    "    num =int(input(\"Enter the number:\"))\n",
    "    if((num%2) == 0):\n",
    "        print(\"It is a even number\")\n",
    "        message=f\"{num} is Even number\"\n",
    "    else:\n",
    "        print(\"It is a odd number\")\n",
    "        message=f\"{num} is Odd number\"\n",
    "    return message"
   ]
  },
  {
   "cell_type": "code",
   "execution_count": 7,
   "id": "45e31cec-3fc3-4602-82e7-f588579d9de3",
   "metadata": {},
   "outputs": [
    {
     "name": "stdin",
     "output_type": "stream",
     "text": [
      "Enter the number: 12\n"
     ]
    },
    {
     "name": "stdout",
     "output_type": "stream",
     "text": [
      "It is a even number\n"
     ]
    },
    {
     "data": {
      "text/plain": [
       "'12 is Even number'"
      ]
     },
     "execution_count": 7,
     "metadata": {},
     "output_type": "execute_result"
    }
   ],
   "source": [
    "OddEven()"
   ]
  },
  {
   "cell_type": "code",
   "execution_count": 10,
   "id": "1a2848d8-cea3-4241-8196-e4d94ac53b38",
   "metadata": {},
   "outputs": [
    {
     "name": "stdin",
     "output_type": "stream",
     "text": [
      "Your Gender (Male/Female):  male\n",
      "Your Age:  25\n"
     ]
    },
    {
     "name": "stdout",
     "output_type": "stream",
     "text": [
      "ELIGIBLE\n"
     ]
    }
   ],
   "source": [
    "\n",
    "# Define the function\n",
    "def Elegible():\n",
    "    gender = input(\"Your Gender (Male/Female): \").strip().capitalize()\n",
    "    age = int(input(\"Your Age: \"))\n",
    "\n",
    "    if gender == \"Male\":\n",
    "        if age >= 21:\n",
    "            print(\"ELIGIBLE\")\n",
    "        else:\n",
    "            print(\"NOT ELIGIBLE\")\n",
    "    elif gender == \"Female\":\n",
    "        if age >= 18:\n",
    "            print(\"ELIGIBLE\")\n",
    "        else:\n",
    "            print(\"NOT ELIGIBLE\")\n",
    "    else:\n",
    "        print(\"Invalid gender input. Please enter 'Male' or 'Female'.\")\n",
    "\n",
    "Elegible()"
   ]
  },
  {
   "cell_type": "code",
   "execution_count": 11,
   "id": "6a8a2a8d-e440-4e2b-bf24-a89156cb82a3",
   "metadata": {},
   "outputs": [
    {
     "name": "stdout",
     "output_type": "stream",
     "text": [
      "Subject1 = 98\n",
      "Subject2 = 87\n",
      "Subject3 = 95\n",
      "Subject4 = 95\n",
      "Subject5 = 93\n",
      "Total : 468\n",
      "Percentage : 93.60000000000001\n"
     ]
    }
   ],
   "source": [
    "\n",
    "def percentage():\n",
    "    # Marks for each subject\n",
    "    subject1 = 98\n",
    "    subject2 = 87\n",
    "    subject3 = 95\n",
    "    subject4 = 95\n",
    "    subject5 = 93\n",
    "\n",
    "    # Calculate total\n",
    "    total = subject1 + subject2 + subject3 + subject4 + subject5\n",
    "\n",
    "    # Calculate percentage\n",
    "    percentage = (total / 500) * 100  # assuming each subject is out of 100\n",
    "\n",
    "    # Print the results\n",
    "    print(\"Subject1 =\", subject1)\n",
    "    print(\"Subject2 =\", subject2)\n",
    "    print(\"Subject3 =\", subject3)\n",
    "    print(\"Subject4 =\", subject4)\n",
    "    print(\"Subject5 =\", subject5)\n",
    "    print(\"Total :\", total)\n",
    "    print(\"Percentage :\", percentage)\n",
    "\n",
    "percentage()"
   ]
  },
  {
   "cell_type": "code",
   "execution_count": 12,
   "id": "341e01a3-c711-404a-a724-055544dce4e9",
   "metadata": {},
   "outputs": [
    {
     "name": "stdout",
     "output_type": "stream",
     "text": [
      "Height: 32\n",
      "Breadth: 34\n",
      "Area formula: (Height*Breadth)/2\n",
      "Area of Triangle: 544.0\n",
      "Height1: 2\n",
      "Height2: 4\n",
      "Breadth: 4\n",
      "Perimeter formula: Height1 + Height2 + Breadth\n",
      "Perimeter of Triangle: 10\n"
     ]
    }
   ],
   "source": [
    "\n",
    "def triangle():\n",
    "    # Area calculation\n",
    "    height = 32\n",
    "    breadth = 34\n",
    "    area = (height * breadth) / 2\n",
    "    print(\"Height:\", height)\n",
    "    print(\"Breadth:\", breadth)\n",
    "    print(\"Area formula: (Height*Breadth)/2\")\n",
    "    print(\"Area of Triangle:\", area)\n",
    "\n",
    "    # Perimeter calculation\n",
    "    height1 = 2\n",
    "    height2 = 4\n",
    "    breadth = 4\n",
    "    perimeter = height1 + height2 + breadth\n",
    "    print(\"Height1:\", height1)\n",
    "    print(\"Height2:\", height2)\n",
    "    print(\"Breadth:\", breadth)\n",
    "    print(\"Perimeter formula: Height1 + Height2 + Breadth\")\n",
    "    print(\"Perimeter of Triangle:\", perimeter)\n",
    "\n",
    "triangle()"
   ]
  },
  {
   "cell_type": "code",
   "execution_count": 13,
   "id": "4f01ca9d-006b-4f8b-9e3a-850b78f0ce34",
   "metadata": {},
   "outputs": [
    {
     "name": "stdout",
     "output_type": "stream",
     "text": [
      "it is finished\n"
     ]
    }
   ],
   "source": [
    "print(\"it is finished\")"
   ]
  },
  {
   "cell_type": "code",
   "execution_count": null,
   "id": "44adfd57-89d2-4141-ac81-3a37b1f73ff6",
   "metadata": {},
   "outputs": [],
   "source": []
  }
 ],
 "metadata": {
  "kernelspec": {
   "display_name": "Python [conda env:base] *",
   "language": "python",
   "name": "conda-base-py"
  },
  "language_info": {
   "codemirror_mode": {
    "name": "ipython",
    "version": 3
   },
   "file_extension": ".py",
   "mimetype": "text/x-python",
   "name": "python",
   "nbconvert_exporter": "python",
   "pygments_lexer": "ipython3",
   "version": "3.12.7"
  }
 },
 "nbformat": 4,
 "nbformat_minor": 5
}
