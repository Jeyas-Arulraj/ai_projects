{
 "cells": [
  {
   "cell_type": "code",
   "execution_count": 1,
   "id": "a0398573-d367-4429-aaa7-377cab7fc652",
   "metadata": {},
   "outputs": [],
   "source": [
    "from Assignment_class_functions import multi_fun"
   ]
  },
  {
   "cell_type": "code",
   "execution_count": 2,
   "id": "9b942312-c864-4301-9076-83c765d388b2",
   "metadata": {},
   "outputs": [
    {
     "name": "stdout",
     "output_type": "stream",
     "text": [
      "Sub-fields in AI are:\n",
      "Machine Learning\n",
      "Neural Networks\n",
      "Vision\n",
      "Robotics\n",
      "Speech Processing\n",
      "Natural Language Processing\n"
     ]
    }
   ],
   "source": [
    "multi_fun.Subfields()"
   ]
  },
  {
   "cell_type": "code",
   "execution_count": 3,
   "id": "1f6a84e0-14f7-4c6f-8689-2f8546dae957",
   "metadata": {},
   "outputs": [
    {
     "name": "stdin",
     "output_type": "stream",
     "text": [
      "Enter the number: 11\n"
     ]
    },
    {
     "name": "stdout",
     "output_type": "stream",
     "text": [
      "It is a odd number\n"
     ]
    },
    {
     "data": {
      "text/plain": [
       "'11 is Odd number'"
      ]
     },
     "execution_count": 3,
     "metadata": {},
     "output_type": "execute_result"
    }
   ],
   "source": [
    "multi_fun.OddEven()"
   ]
  },
  {
   "cell_type": "code",
   "execution_count": 4,
   "id": "04c57df4-00e2-4a5d-8716-b888eddc685b",
   "metadata": {},
   "outputs": [
    {
     "name": "stdin",
     "output_type": "stream",
     "text": [
      "Your Gender (Male/Female):  female\n",
      "Your Age:  33\n"
     ]
    },
    {
     "name": "stdout",
     "output_type": "stream",
     "text": [
      "ELIGIBLE\n"
     ]
    }
   ],
   "source": [
    "multi_fun.Elegible()"
   ]
  },
  {
   "cell_type": "code",
   "execution_count": 5,
   "id": "cd6fca52-4303-4878-b00e-5aa4dd9c7c37",
   "metadata": {},
   "outputs": [
    {
     "name": "stdout",
     "output_type": "stream",
     "text": [
      "Subject1 = 98\n",
      "Subject2 = 87\n",
      "Subject3 = 95\n",
      "Subject4 = 95\n",
      "Subject5 = 93\n",
      "Total : 468\n",
      "Percentage : 93.60000000000001\n"
     ]
    }
   ],
   "source": [
    "multi_fun.percentage()"
   ]
  },
  {
   "cell_type": "code",
   "execution_count": 6,
   "id": "a7956c74-1534-4ed4-aa7e-5f28495fe1e8",
   "metadata": {},
   "outputs": [
    {
     "name": "stdout",
     "output_type": "stream",
     "text": [
      "Height: 32\n",
      "Breadth: 34\n",
      "Area formula: (Height*Breadth)/2\n",
      "Area of Triangle: 544.0\n",
      "Height1: 2\n",
      "Height2: 4\n",
      "Breadth: 4\n",
      "Perimeter formula: Height1 + Height2 + Breadth\n",
      "Perimeter of Triangle: 10\n"
     ]
    }
   ],
   "source": [
    "multi_fun.triangle()"
   ]
  }
 ],
 "metadata": {
  "kernelspec": {
   "display_name": "Python [conda env:base] *",
   "language": "python",
   "name": "conda-base-py"
  },
  "language_info": {
   "codemirror_mode": {
    "name": "ipython",
    "version": 3
   },
   "file_extension": ".py",
   "mimetype": "text/x-python",
   "name": "python",
   "nbconvert_exporter": "python",
   "pygments_lexer": "ipython3",
   "version": "3.12.7"
  }
 },
 "nbformat": 4,
 "nbformat_minor": 5
}
